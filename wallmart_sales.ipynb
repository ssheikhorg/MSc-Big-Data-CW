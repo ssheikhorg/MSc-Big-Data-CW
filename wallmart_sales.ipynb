{
 "cells": [
  {
   "cell_type": "code",
   "execution_count": null,
   "id": "initial_id",
   "metadata": {
    "collapsed": true
   },
   "outputs": [],
   "source": [
    "# 1. Data Preparation\n",
    "# First, load the data and inspect its structure. You can do this using Python and libraries like Pandas and Matplotlib."
   ]
  },
  {
   "metadata": {},
   "cell_type": "code",
   "outputs": [],
   "execution_count": null,
   "source": [
    "import pandas as pd\n",
    "import matplotlib.pyplot as plt\n",
    "import seaborn as sns\n",
    "\n",
    "# Load the Walmart Sales dataset\n",
    "data = pd.read_csv('Walmart_Sales.csv')\n",
    "\n",
    "# Inspect the data structure\n",
    "print(data.head())\n",
    "print(data.info())"
   ],
   "id": "58c89df3f0f10841"
  },
  {
   "metadata": {},
   "cell_type": "markdown",
   "source": [
    "# 2. Data Preprocessing\n",
    "Before analyzing and visualizing, clean and preprocess the data:\n",
    "\n",
    "Check for missing values: Handle missing or null values.\n",
    "Convert data types: Ensure columns like Date are in the correct format."
   ],
   "id": "a6d753836193ffa3"
  },
  {
   "metadata": {},
   "cell_type": "code",
   "outputs": [],
   "execution_count": null,
   "source": [
    "# Convert 'Date' column to datetime format\n",
    "data['Date'] = pd.to_datetime(data['Date'])\n",
    "\n",
    "# Check for missing values\n",
    "print(data.isnull().sum())\n",
    "\n",
    "# Fill or drop missing values as appropriate\n",
    "data.fillna(0, inplace=True)  # Example: filling missing values with 0\n"
   ],
   "id": "bd13e4a091175940"
  },
  {
   "metadata": {},
   "cell_type": "markdown",
   "source": [
    "# 3. Data Visualization\n",
    "Next, create various visualizations to understand the data patterns and trends.\n",
    "\n",
    "3.1. Sales Trend Over Time\n",
    "You can visualize the weekly sales trend to see how sales have evolved over time."
   ],
   "id": "ad7fb64bdb30f2f"
  },
  {
   "metadata": {},
   "cell_type": "code",
   "outputs": [],
   "execution_count": null,
   "source": [
    "# Plot Weekly Sales Trend over time\n",
    "plt.figure(figsize=(12,6))\n",
    "sns.lineplot(x='Date', y='Weekly_Sales', data=data)\n",
    "plt.title('Weekly Sales Trend')\n",
    "plt.xlabel('Date')\n",
    "plt.ylabel('Weekly Sales')\n",
    "plt.xticks(rotation=45)\n",
    "plt.show()\n"
   ],
   "id": "17d215017aba94d2"
  },
  {
   "metadata": {},
   "cell_type": "markdown",
   "source": [
    "Impact on Business:\n",
    "\n",
    "Analyzing sales trends helps identify peaks (e.g., during holidays) and slumps, which can guide inventory and staffing decisions.\n",
    "3.2. Impact of Holidays on Sales\n",
    "Use the Holiday_Flag to analyze if holidays influence sales."
   ],
   "id": "2fc57472a8c82e0b"
  },
  {
   "metadata": {},
   "cell_type": "code",
   "outputs": [],
   "execution_count": null,
   "source": [
    "# Sales comparison on Holidays vs Non-Holidays\n",
    "holiday_sales = data.groupby('Holiday_Flag')['Weekly_Sales'].mean()\n",
    "\n",
    "plt.figure(figsize=(8, 5))\n",
    "holiday_sales.plot(kind='bar')\n",
    "plt.title('Average Weekly Sales - Holidays vs Non-Holidays')\n",
    "plt.ylabel('Average Weekly Sales')\n",
    "plt.xticks([0, 1], ['Non-Holidays', 'Holidays'], rotation=0)\n",
    "plt.show()\n"
   ],
   "id": "ac40148bb3cee2e"
  },
  {
   "metadata": {},
   "cell_type": "markdown",
   "source": [
    "Impact on Business:\n",
    "\n",
    "Identifying the effect of holidays on sales helps optimize promotions, marketing, and staffing during peak periods.\n",
    "3.3. Effect of Temperature on Sales\n",
    "Explore if the local temperature impacts sales, especially for certain categories (e.g., seasonal items)."
   ],
   "id": "b9a03210f15f7519"
  },
  {
   "metadata": {},
   "cell_type": "code",
   "outputs": [],
   "execution_count": null,
   "source": [
    "# Scatter plot: Temperature vs Sales\n",
    "plt.figure(figsize=(10,6))\n",
    "sns.scatterplot(x='Temperature', y='Weekly_Sales', data=data)\n",
    "plt.title('Temperature vs Weekly Sales')\n",
    "plt.xlabel('Temperature (°F)')\n",
    "plt.ylabel('Weekly Sales')\n",
    "plt.show()\n"
   ],
   "id": "72b9d42d8cd49c3d"
  },
  {
   "metadata": {},
   "cell_type": "markdown",
   "source": [
    "Impact on Business:\n",
    "\n",
    "Weather conditions influence buying behavior. For example, high temperatures may boost the sales of cold drinks or summer clothing.\n",
    "3.4. Fuel Price vs Sales\n",
    "Fuel prices may affect consumer spending patterns. Visualizing this relationship could help Walmart optimize pricing and promotions."
   ],
   "id": "b91c0eef935d7696"
  },
  {
   "metadata": {},
   "cell_type": "code",
   "outputs": [],
   "execution_count": null,
   "source": [
    "# Scatter plot: Fuel Price vs Sales\n",
    "plt.figure(figsize=(10,6))\n",
    "sns.scatterplot(x='Fuel_Price', y='Weekly_Sales', data=data)\n",
    "plt.title('Fuel Price vs Weekly Sales')\n",
    "plt.xlabel('Fuel Price')\n",
    "plt.ylabel('Weekly Sales')\n",
    "plt.show()\n"
   ],
   "id": "ee41bfde712e241b"
  },
  {
   "metadata": {},
   "cell_type": "markdown",
   "source": [
    "Impact on Business:\n",
    "\n",
    "A higher fuel price can reduce disposable income, affecting sales, especially for non-essential goods.\n",
    "\n",
    "# 4. Predictive Modeling\n",
    "Using Big Data, you can forecast future sales based on historical data. Let's build a simple Linear Regression model to predict Weekly Sales.\n",
    "\n",
    "4.1. Prepare Data for Modeling\n",
    "Split the data into training and testing sets. Use features like Temperature, Fuel_Price, CPI, Unemployment, and Holiday_Flag to predict Weekly_Sales."
   ],
   "id": "8687c4a66801044e"
  },
  {
   "metadata": {},
   "cell_type": "code",
   "outputs": [],
   "execution_count": null,
   "source": [
    "from sklearn.model_selection import train_test_split\n",
    "from sklearn.linear_model import LinearRegression\n",
    "from sklearn.metrics import mean_absolute_error\n",
    "\n",
    "# Features (independent variables)\n",
    "X = data[['Temperature', 'Fuel_Price', 'CPI', 'Unemployment', 'Holiday_Flag']]\n",
    "\n",
    "# Target variable (dependent variable)\n",
    "y = data['Weekly_Sales']\n",
    "\n",
    "# Split the data into training and test sets\n",
    "X_train, X_test, y_train, y_test = train_test_split(X, y, test_size=0.2, random_state=42)\n",
    "\n",
    "# Train a Linear Regression model\n",
    "model = LinearRegression()\n",
    "model.fit(X_train, y_train)\n",
    "\n",
    "# Make predictions\n",
    "y_pred = model.predict(X_test)\n",
    "\n",
    "# Evaluate the model\n",
    "mae = mean_absolute_error(y_test, y_pred)\n",
    "print(f'Mean Absolute Error: {mae}')\n"
   ],
   "id": "6916fb740fea923d"
  },
  {
   "metadata": {},
   "cell_type": "markdown",
   "source": [
    "Impact on Business:\n",
    "\n",
    "Predicting future sales helps optimize inventory levels, reduce overstocking or stockouts, and improve demand forecasting accuracy.\n",
    "4.2. Visualize Model Performance\n",
    "Visualizing actual vs predicted sales can help evaluate the model’s performance."
   ],
   "id": "d294f12c948ce356"
  },
  {
   "metadata": {},
   "cell_type": "code",
   "outputs": [],
   "execution_count": null,
   "source": [
    "# Compare actual vs predicted sales\n",
    "plt.figure(figsize=(10,6))\n",
    "plt.plot(y_test.values, label='Actual Sales', color='blue')\n",
    "plt.plot(y_pred, label='Predicted Sales', color='red', linestyle='--')\n",
    "plt.title('Actual vs Predicted Sales')\n",
    "plt.xlabel('Test Sample')\n",
    "plt.ylabel('Weekly Sales')\n",
    "plt.legend()\n",
    "plt.show()\n"
   ],
   "id": "f41893b4225ac3af"
  },
  {
   "metadata": {},
   "cell_type": "markdown",
   "source": [
    "Impact on Business:\n",
    "\n",
    "The ability to predict future sales accurately allows Walmart to make data-driven decisions, such as optimizing stock levels and reducing costs.\n",
    "# 5. Conclusion\n",
    "Summarize the business impact of Big Data:\n",
    "\n",
    "Sales Forecasting: Predicting sales trends enables more effective supply chain management and ensures that inventory matches demand, avoiding both overstock and stockouts.\n",
    "Consumer Behavior: By analyzing how external factors (holidays, temperature, fuel prices, etc.) affect sales, Walmart can tailor marketing and promotions.\n",
    "Risk Management: Big Data helps assess the risk of future sales fluctuations due to external factors like unemployment or economic conditions.\n",
    "Operational Efficiency: Real-time sales data analysis supports efficient scheduling and staffing, especially during high-demand periods like holidays."
   ],
   "id": "117cccda23c0e147"
  }
 ],
 "metadata": {
  "kernelspec": {
   "display_name": "Python 3",
   "language": "python",
   "name": "python3"
  },
  "language_info": {
   "codemirror_mode": {
    "name": "ipython",
    "version": 2
   },
   "file_extension": ".py",
   "mimetype": "text/x-python",
   "name": "python",
   "nbconvert_exporter": "python",
   "pygments_lexer": "ipython2",
   "version": "2.7.6"
  }
 },
 "nbformat": 4,
 "nbformat_minor": 5
}
